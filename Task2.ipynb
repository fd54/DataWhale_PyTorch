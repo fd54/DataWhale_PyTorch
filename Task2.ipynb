{
 "cells": [
  {
   "cell_type": "code",
   "execution_count": 9,
   "metadata": {},
   "outputs": [],
   "source": [
    "import torch as t\n",
    "import numpy as np\n",
    "from matplotlib import pyplot as plt"
   ]
  },
  {
   "cell_type": "code",
   "execution_count": 48,
   "metadata": {},
   "outputs": [],
   "source": [
    "# 线性回归\n",
    "# y = 2 * x + 1\n",
    "# 生成数据，带噪音\n",
    "X = np.random.rand(100)*10\n",
    "Y = 2 * X + 1 + np.random.randn(100)"
   ]
  },
  {
   "cell_type": "code",
   "execution_count": 49,
   "metadata": {},
   "outputs": [
    {
     "data": {
      "text/plain": [
       "<matplotlib.collections.PathCollection at 0x1e6b6c82a90>"
      ]
     },
     "execution_count": 49,
     "metadata": {},
     "output_type": "execute_result"
    },
    {
     "data": {
      "image/png": "[encoded data removed]",
      "text/plain": [
       "<Figure size 432x288 with 1 Axes>"
      ]
     },
     "metadata": {
      "needs_background": "light"
     },
     "output_type": "display_data"
    }
   ],
   "source": [
    "plt.scatter(X,Y)"
   ]
  },
  {
   "cell_type": "code",
   "execution_count": 45,
   "metadata": {},
   "outputs": [],
   "source": [
    "# 随机初始化参数\n",
    "w = t.rand(1,1,requires_grad=True)\n",
    "b = t.rand(1,1,requires_grad=True)"
   ]
  },
  {
   "cell_type": "code",
   "execution_count": 71,
   "metadata": {},
   "outputs": [
    {
     "data": {
      "text/plain": [
       "(tensor([[1.9899]], requires_grad=True),\n",
       " tensor([[1.2232]], requires_grad=True))"
      ]
     },
     "execution_count": 71,
     "metadata": {},
     "output_type": "execute_result"
    }
   ],
   "source": [
    "def model_LR(X,Y,w,b,lr,iters):\n",
    "    x = t.Tensor(X).reshape([-1,1])\n",
    "    y = t.Tensor(Y).reshape([-1,1])\n",
    "    losses = np.zeros(iters)\n",
    "    for i in range(iters):\n",
    "        # forward：计算loss\n",
    "        y_pred = x.mm(w) + b.expand_as(y)\n",
    "        loss = 0.5 * (y_pred - y) ** 2\n",
    "        loss = loss.mean()\n",
    "        losses[i] = loss.item()\n",
    "\n",
    "        # backward：手动计算梯度\n",
    "        loss.backward()\n",
    "\n",
    "        # 更新参数\n",
    "        w.data.sub_(lr * w.grad.data)\n",
    "        b.data.sub_(lr * b.grad.data)\n",
    "\n",
    "        # 梯度清零\n",
    "        w.grad.data.zero_()\n",
    "        b.grad.data.zero_()\n",
    "    return w,b\n",
    "   \n",
    "model_LR(X,Y,w,b,0.01,10000)\n",
    "    "
   ]
  },
  {
   "cell_type": "code",
   "execution_count": null,
   "metadata": {},
   "outputs": [],
   "source": []
  }
 ],
 "metadata": {
  "kernelspec": {
   "display_name": "Python [conda env:pytorch]",
   "language": "python",
   "name": "conda-env-pytorch-py"
  },
  "language_info": {
   "codemirror_mode": {
    "name": "ipython",
    "version": 3
   },
   "file_extension": ".py",
   "mimetype": "text/x-python",
   "name": "python",
   "nbconvert_exporter": "python",
   "pygments_lexer": "ipython3",
   "version": "3.7.3"
  }
 },
 "nbformat": 4,
 "nbformat_minor": 2
}
